{
  "cells": [
    {
      "cell_type": "markdown",
      "metadata": {
        "id": "XmoKlVKSh2E9"
      },
      "source": [
        "# FT-Transformer"
      ]
    },
    {
      "cell_type": "markdown",
      "metadata": {
        "id": "02RoGQLTh-0V"
      },
      "source": [
        "## Setting"
      ]
    },
    {
      "cell_type": "code",
      "execution_count": null,
      "metadata": {
        "id": "M7Yk2Fy8h-0V"
      },
      "outputs": [],
      "source": [
        "# rtdl: ResNet, FT-Transformer\n",
        "!pip install rtdl\n",
        "!pip install optuna"
      ]
    },
    {
      "cell_type": "code",
      "execution_count": null,
      "metadata": {
        "id": "M4kB25Rwh-0X"
      },
      "outputs": [],
      "source": [
        "import pandas as pd\n",
        "import numpy as np\n",
        "import matplotlib.pyplot as plt\n",
        "import os\n",
        "import random\n",
        "from tqdm import tqdm\n",
        "import rtdl\n",
        "from typing import Any, Dict\n",
        "\n",
        "from sklearn.preprocessing import StandardScaler, LabelEncoder\n",
        "from sklearn.model_selection import train_test_split\n",
        "\n",
        "import torch\n",
        "import torch.nn as nn\n",
        "import torch.nn.functional as F\n",
        "import torch.optim as optim\n",
        "from torch.utils.data import DataLoader, Dataset\n",
        "\n",
        "import optuna\n",
        "from optuna import Trial\n",
        "from optuna.samplers import TPESampler"
      ]
    },
    {
      "cell_type": "code",
      "execution_count": null,
      "metadata": {
        "colab": {
          "base_uri": "https://localhost:8080/"
        },
        "id": "7UE02QIlh-0X",
        "outputId": "7fed155b-87d4-4f09-a4b4-336486092d0c"
      },
      "outputs": [
        {
          "name": "stdout",
          "output_type": "stream",
          "text": [
            "Using cuda device\n"
          ]
        }
      ],
      "source": [
        "# device check\n",
        "device = ('cuda' if torch.cuda.is_available() else 'cpu')\n",
        "print(f\"Using {device} device\")"
      ]
    },
    {
      "cell_type": "code",
      "execution_count": null,
      "metadata": {
        "id": "qbyfzLTOh-0X"
      },
      "outputs": [],
      "source": [
        "def seed_everything(seed = 21):\n",
        "    random.seed(seed)\n",
        "    np.random.seed(seed)\n",
        "    os.environ[\"PYTHONHASHSEED\"] = str(seed)\n",
        "    torch.manual_seed(seed)\n",
        "    torch.cuda.manual_seed(seed)\n",
        "    torch.backends.cudnn.deterministic = True\n",
        "    torch.backends.cudnn.benchmark = True"
      ]
    },
    {
      "cell_type": "code",
      "execution_count": null,
      "metadata": {
        "id": "w9OoOMa5h-0Y"
      },
      "outputs": [],
      "source": [
        "def read_split_data():\n",
        "    df = pd.read_csv('/content/drive/MyDrive/Data/adult.csv')\n",
        "    X = {}\n",
        "    y = {}\n",
        "    X['train'], X['test'], y['train'], y['test'] = train_test_split(df.iloc[:, :-1], df.income, test_size = 0.10, random_state=21)\n",
        "    X['train'], X['val'], y['train'], y['val'] = train_test_split(X['train'], y['train'], test_size = 0.10, random_state=21)\n",
        "\n",
        "    return X, y"
      ]
    },
    {
      "cell_type": "code",
      "execution_count": null,
      "metadata": {
        "id": "be0GDcIAh-0Y"
      },
      "outputs": [],
      "source": [
        "def preprocessing(X, y):\n",
        "    cat_index = X['train'].select_dtypes(['object']).columns\n",
        "    num_index = X['train'].select_dtypes(['int64']).columns\n",
        "\n",
        "    # categorical cardinalities for CategoricalFeatureTokenizer\n",
        "    cat_cardinalities = []\n",
        "\n",
        "    # StandardScaler\n",
        "    ss = StandardScaler()\n",
        "    X['train'][num_index] = ss.fit_transform(X['train'][num_index])\n",
        "    X['val'][num_index] = ss.transform(X['val'][num_index])\n",
        "    X['test'][num_index] = ss.transform(X['test'][num_index])\n",
        "    # float64 -> float32 (recommended)\n",
        "    X['train'][num_index] = X['train'][num_index].apply(lambda x: x.astype('float32'))\n",
        "    X['val'][num_index] = X['val'][num_index].apply(lambda x: x.astype('float32'))\n",
        "    X['test'][num_index] = X['test'][num_index].apply(lambda x: x.astype('float32'))\n",
        "\n",
        "    # LabelEncoder\n",
        "    for col in cat_index:\n",
        "      le = LabelEncoder()\n",
        "\n",
        "      X['train'][col] = le.fit_transform(X['train'][col])\n",
        "\n",
        "      # X_val, X_test에만 존재하는 label이 있을 경우\n",
        "      for label in np.unique(X['val'][col]):\n",
        "        if label not in le.classes_:\n",
        "          le.classes_ = np.append(le.classes_, label)\n",
        "\n",
        "      for label in np.unique(X['test'][col]):\n",
        "        if label not in le.classes_:\n",
        "          le.classes_ = np.append(le.classes_, label)\n",
        "\n",
        "      X['val'][col] = le.transform(X['val'][col])\n",
        "      X['test'][col] = le.transform(X['test'][col])\n",
        "\n",
        "      # cardinalities\n",
        "      max_cat = np.max([np.max(X['train'][col]),\n",
        "                        np.max(X['val'][col]),\n",
        "                        np.max(X['test'][col])]) + 1\n",
        "      cat_cardinalities.append(max_cat)\n",
        "\n",
        "   # y = 1 if > 50K\n",
        "    y['train'] = np.where(y['train']=='>50K', 1, 0).reshape(-1, 1)\n",
        "    y['val'] = np.where(y['val']=='>50K', 1, 0).reshape(-1, 1)\n",
        "    y['test'] = np.where(y['test']=='>50K', 1, 0).reshape(-1, 1)\n",
        "\n",
        "    return X, y, cat_cardinalities"
      ]
    },
    {
      "cell_type": "code",
      "execution_count": null,
      "metadata": {
        "id": "eLWfX_eWh-0Y"
      },
      "outputs": [],
      "source": [
        "def setting_rtdl(data, label):\n",
        "    '''\n",
        "    DataFrame, np.array -> torch.Tensor\n",
        "    FT-Transformer: split X -> X_num, X_cat\n",
        "    '''\n",
        "    cat_index = data['train'].select_dtypes(['int64']).columns\n",
        "    num_index = data['train'].select_dtypes(['float32']).columns\n",
        "\n",
        "    X = {'train': {},\n",
        "         'val': {},\n",
        "         'test': {}}\n",
        "    y = {'train': {},\n",
        "         'val': {},\n",
        "         'test': {}}\n",
        "\n",
        "    X['train']['num'] = torch.tensor(data['train'][num_index].values, device=device)\n",
        "    X['train']['cat'] = torch.tensor(data['train'][cat_index].values, device=device)\n",
        "\n",
        "    X['val']['num'] = torch.tensor(data['val'][num_index].values, device=device)\n",
        "    X['val']['cat'] = torch.tensor(data['val'][cat_index].values, device=device)\n",
        "\n",
        "    X['test']['num'] = torch.tensor(data['test'][num_index].values, device=device)\n",
        "    X['test']['cat'] = torch.tensor(data['test'][cat_index].values, device=device)\n",
        "\n",
        "    # dtype=float for BCELoss\n",
        "    y['train'] = torch.tensor(label['train'], dtype=torch.float, device=device)\n",
        "    y['val'] = torch.tensor(label['val'], dtype=torch.float, device=device)\n",
        "    y['test'] = torch.tensor(label['test'], dtype=torch.float, device=device)\n",
        "\n",
        "    return X, y"
      ]
    },
    {
      "cell_type": "code",
      "execution_count": null,
      "metadata": {
        "id": "cSgcCXS7h-0Y"
      },
      "outputs": [],
      "source": [
        "# Dataset with num / cat features (for rtdl)\n",
        "class TensorData(Dataset):\n",
        "    def __init__(self, num, cat, label):\n",
        "        self.num = num\n",
        "        self.cat = cat\n",
        "        self.label = label\n",
        "        self.len = self.label.shape[0]\n",
        "\n",
        "    def __getitem__(self, index):\n",
        "        return self.num[index],self.cat[index], self.label[index]\n",
        "\n",
        "    def __len__(self):\n",
        "        return self.len"
      ]
    },
    {
      "cell_type": "code",
      "execution_count": null,
      "metadata": {
        "id": "_jlzNXAzh-0Y"
      },
      "outputs": [],
      "source": [
        "def model_train(model, data_loader, criterion, optimizer, device, scheduler=None):\n",
        "    model.train()\n",
        "    running_loss = 0\n",
        "    corr = 0\n",
        "\n",
        "    # for rtdl\n",
        "    for x_num, x_cat, label in tqdm(data_loader):\n",
        "        optimizer.zero_grad()\n",
        "\n",
        "        x_num, x_cat, label = x_num.to(device), x_cat.to(device), label.to(device)\n",
        "        output = model(x_num, x_cat)\n",
        "        output = torch.sigmoid(output)\n",
        "        loss = criterion(output, label)\n",
        "        loss.backward()\n",
        "        optimizer.step()\n",
        "\n",
        "        pred = output >= torch.FloatTensor([0.5]).to(device)\n",
        "        corr += pred.eq(label).sum().item()\n",
        "        running_loss += loss.item() * x_num.size(0)\n",
        "\n",
        "    if scheduler:\n",
        "        scheduler.step()\n",
        "\n",
        "    # Average accuracy & loss\n",
        "    accuracy = corr / len(data_loader.dataset)\n",
        "    loss = running_loss / len(data_loader.dataset)\n",
        "    history['train_loss'].append(loss)\n",
        "    history['train_accuracy'].append(accuracy)\n",
        "\n",
        "    return loss, accuracy"
      ]
    },
    {
      "cell_type": "code",
      "execution_count": null,
      "metadata": {
        "id": "HejbbRWjh-0Z"
      },
      "outputs": [],
      "source": [
        "def model_evaluate(model, data_loader, criterion, device):\n",
        "    model.eval()\n",
        "    with torch.no_grad():\n",
        "        running_loss = 0\n",
        "        corr = 0\n",
        "\n",
        "        for x_num, x_cat, label in data_loader:\n",
        "            x_num, x_cat, label = x_num.to(device), x_cat.to(device), label.to(device)\n",
        "            output = model(x_num, x_cat)\n",
        "            output = torch.sigmoid(output)\n",
        "\n",
        "            pred = output >= torch.FloatTensor([0.5]).to(device)\n",
        "            corr += pred.eq(label).sum().item()\n",
        "            running_loss += criterion(output, label).item() * x_num.size(0)\n",
        "\n",
        "        accuracy = corr / len(data_loader.dataset)\n",
        "        loss = running_loss / len(data_loader.dataset)\n",
        "        history['val_loss'].append(loss)\n",
        "        history['val_accuracy'].append(accuracy)\n",
        "\n",
        "        return loss, accuracy"
      ]
    },
    {
      "cell_type": "code",
      "execution_count": null,
      "metadata": {
        "id": "PMtH1Dlxh-0Z"
      },
      "outputs": [],
      "source": [
        "def model_tune(model, train_loader, val_loader, criterion, optimizer, device):\n",
        "    model.train()\n",
        "\n",
        "    # train_loader\n",
        "    for x_num, x_cat, label in train_loader:\n",
        "        optimizer.zero_grad()\n",
        "        x_num, x_cat, label = x_num.to(device), x_cat.to(device), label.to(device)\n",
        "        output = model(x_num, x_cat)\n",
        "        output = torch.sigmoid(output)\n",
        "        loss = criterion(output, label)\n",
        "        loss.backward()\n",
        "        optimizer.step()\n",
        "\n",
        "    # val_loader\n",
        "    model.eval()\n",
        "    with torch.no_grad():\n",
        "        running_loss = 0\n",
        "        corr = 0\n",
        "\n",
        "        for x_num, x_cat, label in val_loader:\n",
        "            x_num, x_cat, label = x_num.to(device), x_cat.to(device), label.to(device)\n",
        "            output = model(x_num, x_cat)\n",
        "            output = torch.sigmoid(output)\n",
        "            pred = output >= torch.FloatTensor([0.5]).to(device)\n",
        "            corr += pred.eq(label).sum().item()\n",
        "            running_loss += criterion(output, label).item() * x_num.size(0)\n",
        "\n",
        "        val_accuracy = corr / len(val_loader.dataset)\n",
        "        val_loss = running_loss / len(val_loader.dataset)\n",
        "\n",
        "        return val_loss, val_accuracy"
      ]
    },
    {
      "cell_type": "code",
      "execution_count": null,
      "metadata": {
        "id": "zHZE265-h-0Z"
      },
      "outputs": [],
      "source": [
        "def plot_loss(history):\n",
        "    plt.plot(history['train_loss'], label='train', marker='o')\n",
        "    plt.plot(history['val_loss'], label='val', marker='o')\n",
        "    plt.title('Loss per epoch')\n",
        "    plt.ylabel('Loss');\n",
        "    plt.xlabel('Epoch')\n",
        "    plt.legend()\n",
        "    plt.grid()\n",
        "\n",
        "def plot_acc(history):\n",
        "    plt.plot(history['train_accuracy'], label='train', marker='o')\n",
        "    plt.plot(history['val_accuracy'], label='val',  marker='o')\n",
        "    plt.title('Accuracy per epoch')\n",
        "    plt.ylabel('Accuracy')\n",
        "    plt.xlabel('Epoch')\n",
        "    plt.legend()\n",
        "    plt.grid()"
      ]
    },
    {
      "cell_type": "code",
      "execution_count": null,
      "metadata": {
        "id": "TEfR60tth-0a"
      },
      "outputs": [],
      "source": [
        "def ready_data():\n",
        "    # data setting\n",
        "    seed_everything()\n",
        "    X, y = read_split_data()\n",
        "    X, y, cardinalities = preprocessing(X, y)\n",
        "    X, y = setting_rtdl(X, y)\n",
        "\n",
        "    # dataset, dataloader\n",
        "    train_data = TensorData(X['train']['num'], X['train']['cat'], y['train'])\n",
        "    val_data = TensorData(X['val']['num'], X['val']['cat'], y['val'])\n",
        "    test_data = TensorData(X['test']['num'], X['test']['cat'], y['test'])\n",
        "\n",
        "    train_loader = DataLoader(train_data, batch_size=32, shuffle=True)\n",
        "    val_loader = DataLoader(val_data, batch_size=32, shuffle=True)\n",
        "    test_loader = DataLoader(test_data, batch_size=32, shuffle=True)\n",
        "\n",
        "    return X, y, cardinalities, train_loader, val_loader, test_loader"
      ]
    },
    {
      "cell_type": "markdown",
      "metadata": {
        "id": "I91ddr2njufb"
      },
      "source": [
        "## Run"
      ]
    },
    {
      "cell_type": "code",
      "execution_count": null,
      "metadata": {
        "id": "yx6Apn9Ujssd"
      },
      "outputs": [],
      "source": [
        "X, y, cardinalities, train_loader, val_loader, test_loader = ready_data()"
      ]
    },
    {
      "cell_type": "code",
      "execution_count": null,
      "metadata": {
        "id": "aksKB1-CiboM"
      },
      "outputs": [],
      "source": [
        "'''\n",
        "FT-Transformer\n",
        "\n",
        "Examples:\n",
        "        .. testcode::\n",
        "\n",
        "            x_num = torch.randn(4, 3)\n",
        "            x_cat = torch.tensor([[0, 1], [1, 0], [0, 2], [1, 1]])\n",
        "\n",
        "            module = FTTransformer.make_baseline(\n",
        "                n_num_features=3,\n",
        "                cat_cardinalities=[2, 3],\n",
        "                d_token=8,\n",
        "                n_blocks=2,\n",
        "                attention_dropout=0.2,\n",
        "                ffn_d_hidden=6,\n",
        "                ffn_dropout=0.2,\n",
        "                residual_dropout=0.0,\n",
        "                d_out=1,\n",
        "            )\n",
        "            x = module(x_num, x_cat)\n",
        "            assert x.shape == (4, 1)\n",
        "\n",
        "Args:\n",
        "            n_num_features: the number of continuous features\n",
        "            cat_cardinalities: the cardinalities of categorical features (see\n",
        "                `CategoricalFeatureTokenizer` to learn more about cardinalities)\n",
        "            d_token: the token size for each feature. Must be a multiple of :code:`n_heads=8`.\n",
        "            n_blocks: the number of Transformer blocks\n",
        "            attention_dropout: the dropout for attention blocks (see `MultiheadAttention`).\n",
        "                Usually, positive values work better (even when the number of features is low).\n",
        "            ffn_d_hidden: the *input* size for the *second* linear layer in `Transformer.FFN`.\n",
        "                Note that it can be different from the output size of the first linear\n",
        "                layer, since activations such as ReGLU or GEGLU change the size of input.\n",
        "                For example, if :code:`ffn_d_hidden=10` and the activation is ReGLU (which\n",
        "                is always true for the baseline and default configurations), then the\n",
        "                output size of the first linear layer will be set to :code:`20`.\n",
        "            ffn_dropout: the dropout rate after the first linear layer in `Transformer.FFN`.\n",
        "            residual_dropout: the dropout rate for the output of each residual branch of\n",
        "                all Transformer blocks.\n",
        "            d_out: the output size.\n",
        "'''"
      ]
    },
    {
      "cell_type": "code",
      "execution_count": null,
      "metadata": {
        "colab": {
          "base_uri": "https://localhost:8080/"
        },
        "id": "nyuTguoXm8rk",
        "outputId": "4bfff72d-81e6-4bdf-be78-c5a861d77af2"
      },
      "outputs": [
        {
          "name": "stdout",
          "output_type": "stream",
          "text": [
            "FTTransformer(\n",
            "  (feature_tokenizer): FeatureTokenizer(\n",
            "    (num_tokenizer): NumericalFeatureTokenizer()\n",
            "    (cat_tokenizer): CategoricalFeatureTokenizer(\n",
            "      (embeddings): Embedding(102, 64)\n",
            "    )\n",
            "  )\n",
            "  (cls_token): CLSToken()\n",
            "  (transformer): Transformer(\n",
            "    (blocks): ModuleList(\n",
            "      (0): ModuleDict(\n",
            "        (attention): MultiheadAttention(\n",
            "          (W_q): Linear(in_features=64, out_features=64, bias=True)\n",
            "          (W_k): Linear(in_features=64, out_features=64, bias=True)\n",
            "          (W_v): Linear(in_features=64, out_features=64, bias=True)\n",
            "          (W_out): Linear(in_features=64, out_features=64, bias=True)\n",
            "          (dropout): Dropout(p=0.2, inplace=False)\n",
            "        )\n",
            "        (ffn): FFN(\n",
            "          (linear_first): Linear(in_features=64, out_features=256, bias=True)\n",
            "          (activation): ReGLU()\n",
            "          (dropout): Dropout(p=0.1, inplace=False)\n",
            "          (linear_second): Linear(in_features=128, out_features=64, bias=True)\n",
            "        )\n",
            "        (attention_residual_dropout): Dropout(p=0.1, inplace=False)\n",
            "        (ffn_residual_dropout): Dropout(p=0.1, inplace=False)\n",
            "        (output): Identity()\n",
            "        (ffn_normalization): LayerNorm((64,), eps=1e-05, elementwise_affine=True)\n",
            "      )\n",
            "      (1): ModuleDict(\n",
            "        (attention): MultiheadAttention(\n",
            "          (W_q): Linear(in_features=64, out_features=64, bias=True)\n",
            "          (W_k): Linear(in_features=64, out_features=64, bias=True)\n",
            "          (W_v): Linear(in_features=64, out_features=64, bias=True)\n",
            "          (W_out): Linear(in_features=64, out_features=64, bias=True)\n",
            "          (dropout): Dropout(p=0.2, inplace=False)\n",
            "        )\n",
            "        (ffn): FFN(\n",
            "          (linear_first): Linear(in_features=64, out_features=256, bias=True)\n",
            "          (activation): ReGLU()\n",
            "          (dropout): Dropout(p=0.1, inplace=False)\n",
            "          (linear_second): Linear(in_features=128, out_features=64, bias=True)\n",
            "        )\n",
            "        (attention_residual_dropout): Dropout(p=0.1, inplace=False)\n",
            "        (ffn_residual_dropout): Dropout(p=0.1, inplace=False)\n",
            "        (output): Identity()\n",
            "        (attention_normalization): LayerNorm((64,), eps=1e-05, elementwise_affine=True)\n",
            "        (ffn_normalization): LayerNorm((64,), eps=1e-05, elementwise_affine=True)\n",
            "      )\n",
            "      (2): ModuleDict(\n",
            "        (attention): MultiheadAttention(\n",
            "          (W_q): Linear(in_features=64, out_features=64, bias=True)\n",
            "          (W_k): Linear(in_features=64, out_features=64, bias=True)\n",
            "          (W_v): Linear(in_features=64, out_features=64, bias=True)\n",
            "          (W_out): Linear(in_features=64, out_features=64, bias=True)\n",
            "          (dropout): Dropout(p=0.2, inplace=False)\n",
            "        )\n",
            "        (ffn): FFN(\n",
            "          (linear_first): Linear(in_features=64, out_features=256, bias=True)\n",
            "          (activation): ReGLU()\n",
            "          (dropout): Dropout(p=0.1, inplace=False)\n",
            "          (linear_second): Linear(in_features=128, out_features=64, bias=True)\n",
            "        )\n",
            "        (attention_residual_dropout): Dropout(p=0.1, inplace=False)\n",
            "        (ffn_residual_dropout): Dropout(p=0.1, inplace=False)\n",
            "        (output): Identity()\n",
            "        (attention_normalization): LayerNorm((64,), eps=1e-05, elementwise_affine=True)\n",
            "        (ffn_normalization): LayerNorm((64,), eps=1e-05, elementwise_affine=True)\n",
            "      )\n",
            "    )\n",
            "    (head): Head(\n",
            "      (normalization): LayerNorm((64,), eps=1e-05, elementwise_affine=True)\n",
            "      (activation): ReLU()\n",
            "      (linear): Linear(in_features=64, out_features=1, bias=True)\n",
            "    )\n",
            "  )\n",
            ")\n"
          ]
        }
      ],
      "source": [
        "# embedding dimension = 64\n",
        "# # of transformer layer = 3\n",
        "ft_t = rtdl.FTTransformer.make_baseline(n_num_features=X['train']['num'].shape[1],\n",
        "                                        cat_cardinalities=cardinalities,\n",
        "                                        d_token=64,\n",
        "                                        n_blocks=3,\n",
        "                                        attention_dropout=0.2,\n",
        "                                        ffn_d_hidden=128,\n",
        "                                        ffn_dropout=0.1,\n",
        "                                        residual_dropout=0.1,\n",
        "                                        d_out=1).to(device)\n",
        "print(ft_t)"
      ]
    },
    {
      "cell_type": "code",
      "execution_count": null,
      "metadata": {
        "colab": {
          "base_uri": "https://localhost:8080/"
        },
        "id": "km1noAF1oN9X",
        "outputId": "e39df043-c27c-4dac-d014-68d8a326d425"
      },
      "outputs": [
        {
          "name": "stderr",
          "output_type": "stream",
          "text": [
            "100%|██████████| 1237/1237 [00:22<00:00, 54.66it/s]\n"
          ]
        },
        {
          "name": "stdout",
          "output_type": "stream",
          "text": [
            "[INFO] val_loss has been improved from inf to 0.32339. Save model.\n",
            "epoch 01, loss: 0.35004, accuracy: 0.84255, val_loss: 0.32339, val_accuracy: 0.85328 \n",
            "\n"
          ]
        },
        {
          "name": "stderr",
          "output_type": "stream",
          "text": [
            "100%|██████████| 1237/1237 [00:21<00:00, 57.09it/s]\n"
          ]
        },
        {
          "name": "stdout",
          "output_type": "stream",
          "text": [
            "[INFO] val_loss has been improved from 0.32339 to 0.31328. Save model.\n",
            "epoch 02, loss: 0.31587, accuracy: 0.85541, val_loss: 0.31328, val_accuracy: 0.85578 \n",
            "\n"
          ]
        },
        {
          "name": "stderr",
          "output_type": "stream",
          "text": [
            "100%|██████████| 1237/1237 [00:22<00:00, 56.18it/s]\n"
          ]
        },
        {
          "name": "stdout",
          "output_type": "stream",
          "text": [
            "epoch 03, loss: 0.31053, accuracy: 0.85731, val_loss: 0.31567, val_accuracy: 0.85350 \n",
            "\n"
          ]
        },
        {
          "name": "stderr",
          "output_type": "stream",
          "text": [
            "100%|██████████| 1237/1237 [00:20<00:00, 61.07it/s]\n"
          ]
        },
        {
          "name": "stdout",
          "output_type": "stream",
          "text": [
            "[INFO] val_loss has been improved from 0.31328 to 0.31219. Save model.\n",
            "epoch 04, loss: 0.30757, accuracy: 0.85771, val_loss: 0.31219, val_accuracy: 0.85510 \n",
            "\n"
          ]
        },
        {
          "name": "stderr",
          "output_type": "stream",
          "text": [
            "100%|██████████| 1237/1237 [00:20<00:00, 59.36it/s]\n"
          ]
        },
        {
          "name": "stdout",
          "output_type": "stream",
          "text": [
            "epoch 05, loss: 0.30668, accuracy: 0.85817, val_loss: 0.31452, val_accuracy: 0.85259 \n",
            "\n"
          ]
        },
        {
          "name": "stderr",
          "output_type": "stream",
          "text": [
            "100%|██████████| 1237/1237 [00:21<00:00, 57.74it/s]\n"
          ]
        },
        {
          "name": "stdout",
          "output_type": "stream",
          "text": [
            "[INFO] val_loss has been improved from 0.31219 to 0.31078. Save model.\n",
            "epoch 06, loss: 0.30395, accuracy: 0.85865, val_loss: 0.31078, val_accuracy: 0.85282 \n",
            "\n"
          ]
        },
        {
          "name": "stderr",
          "output_type": "stream",
          "text": [
            "100%|██████████| 1237/1237 [00:20<00:00, 61.05it/s]\n"
          ]
        },
        {
          "name": "stdout",
          "output_type": "stream",
          "text": [
            "[INFO] val_loss has been improved from 0.31078 to 0.30716. Save model.\n",
            "epoch 07, loss: 0.30309, accuracy: 0.86006, val_loss: 0.30716, val_accuracy: 0.85623 \n",
            "\n"
          ]
        },
        {
          "name": "stderr",
          "output_type": "stream",
          "text": [
            "100%|██████████| 1237/1237 [00:21<00:00, 56.26it/s]\n"
          ]
        },
        {
          "name": "stdout",
          "output_type": "stream",
          "text": [
            "epoch 08, loss: 0.30146, accuracy: 0.86054, val_loss: 0.31331, val_accuracy: 0.85373 \n",
            "\n"
          ]
        },
        {
          "name": "stderr",
          "output_type": "stream",
          "text": [
            "100%|██████████| 1237/1237 [00:20<00:00, 60.62it/s]\n"
          ]
        },
        {
          "name": "stdout",
          "output_type": "stream",
          "text": [
            "epoch 09, loss: 0.30070, accuracy: 0.86060, val_loss: 0.31066, val_accuracy: 0.85350 \n",
            "\n"
          ]
        },
        {
          "name": "stderr",
          "output_type": "stream",
          "text": [
            "100%|██████████| 1237/1237 [00:21<00:00, 58.79it/s]\n"
          ]
        },
        {
          "name": "stdout",
          "output_type": "stream",
          "text": [
            "epoch 10, loss: 0.29902, accuracy: 0.86196, val_loss: 0.30841, val_accuracy: 0.85464 \n",
            "\n"
          ]
        },
        {
          "name": "stderr",
          "output_type": "stream",
          "text": [
            "100%|██████████| 1237/1237 [00:21<00:00, 58.50it/s]\n"
          ]
        },
        {
          "name": "stdout",
          "output_type": "stream",
          "text": [
            "epoch 11, loss: 0.29855, accuracy: 0.86118, val_loss: 0.30799, val_accuracy: 0.85623 \n",
            "\n"
          ]
        },
        {
          "name": "stderr",
          "output_type": "stream",
          "text": [
            "100%|██████████| 1237/1237 [00:20<00:00, 60.87it/s]\n"
          ]
        },
        {
          "name": "stdout",
          "output_type": "stream",
          "text": [
            "epoch 12, loss: 0.29839, accuracy: 0.86032, val_loss: 0.31615, val_accuracy: 0.85009 \n",
            "\n"
          ]
        },
        {
          "name": "stderr",
          "output_type": "stream",
          "text": [
            "100%|██████████| 1237/1237 [00:22<00:00, 54.48it/s]\n"
          ]
        },
        {
          "name": "stdout",
          "output_type": "stream",
          "text": [
            "epoch 13, loss: 0.29789, accuracy: 0.86115, val_loss: 0.30838, val_accuracy: 0.85441 \n",
            "\n"
          ]
        },
        {
          "name": "stderr",
          "output_type": "stream",
          "text": [
            "100%|██████████| 1237/1237 [00:20<00:00, 59.77it/s]\n"
          ]
        },
        {
          "name": "stdout",
          "output_type": "stream",
          "text": [
            "epoch 14, loss: 0.29670, accuracy: 0.86171, val_loss: 0.31641, val_accuracy: 0.85350 \n",
            "\n"
          ]
        },
        {
          "name": "stderr",
          "output_type": "stream",
          "text": [
            "100%|██████████| 1237/1237 [00:21<00:00, 56.64it/s]\n"
          ]
        },
        {
          "name": "stdout",
          "output_type": "stream",
          "text": [
            "epoch 15, loss: 0.29638, accuracy: 0.86183, val_loss: 0.31503, val_accuracy: 0.85373 \n",
            "\n"
          ]
        }
      ],
      "source": [
        "criterion = nn.BCELoss()\n",
        "optimizer = optim.AdamW(ft_t.parameters(), lr = 1e-4, weight_decay=1e-5)\n",
        "\n",
        "history = {'train_loss' : [],\n",
        "           'val_loss': [],\n",
        "           'train_accuracy': [],\n",
        "           'val_accuracy': []}\n",
        "\n",
        "EPOCHS = 15\n",
        "max_loss = np.inf\n",
        "\n",
        "for epoch in range(EPOCHS):\n",
        "    train_loss, train_acc = model_train(ft_t, train_loader, criterion, optimizer, device, None)\n",
        "    val_loss, val_acc = model_evaluate(ft_t, val_loader, criterion, device)\n",
        "\n",
        "    if val_loss < max_loss:\n",
        "        print(f'[INFO] val_loss has been improved from {max_loss:.5f} to {val_loss:.5f}. Save model.')\n",
        "        max_loss = val_loss\n",
        "        torch.save(ft_t.state_dict(), 'FT-Transformer_Best.pth')\n",
        "\n",
        "    print(f'epoch {epoch+1:02d}, loss: {train_loss:.5f}, accuracy: {train_acc:.5f}, val_loss: {val_loss:.5f}, val_accuracy: {val_acc:.5f} \\n')"
      ]
    },
    {
      "cell_type": "code",
      "execution_count": null,
      "metadata": {
        "colab": {
          "base_uri": "https://localhost:8080/",
          "height": 472
        },
        "id": "0gqGNdovopPX",
        "outputId": "2c40a6da-9056-4675-9b75-cc77af8d987c"
      },
      "outputs": [
        {
          "data": {
            "image/png": "[encoded data removed]",
            "text/plain": [
              "<Figure size 640x480 with 1 Axes>"
            ]
          },
          "metadata": {},
          "output_type": "display_data"
        }
      ],
      "source": [
        "plot_acc(history)"
      ]
    },
    {
      "cell_type": "code",
      "execution_count": null,
      "metadata": {
        "colab": {
          "base_uri": "https://localhost:8080/",
          "height": 472
        },
        "id": "gTcSDF0hp4JD",
        "outputId": "c6965403-8162-4e41-dcfc-a67177a20e0b"
      },
      "outputs": [
        {
          "data": {
            "image/png": "[encoded data removed]",
            "text/plain": [
              "<Figure size 640x480 with 1 Axes>"
            ]
          },
          "metadata": {},
          "output_type": "display_data"
        }
      ],
      "source": [
        "plot_loss(history)"
      ]
    },
    {
      "cell_type": "code",
      "execution_count": null,
      "metadata": {
        "colab": {
          "base_uri": "https://localhost:8080/"
        },
        "id": "a8aP6Bejp5CP",
        "outputId": "9aae7cad-fecc-4175-ceda-fddc516870cf"
      },
      "outputs": [
        {
          "name": "stdout",
          "output_type": "stream",
          "text": [
            "Test loss: 0.30666763982606887 \n",
            "Test acc: 0.8550665301944729\n"
          ]
        }
      ],
      "source": [
        "# test evaluate\n",
        "ft_t.load_state_dict(torch.load('FT-Transformer_Best.pth'))\n",
        "test_loss, test_acc = model_evaluate(ft_t, test_loader, criterion, device)\n",
        "print('Test loss:', test_loss, '\\nTest acc:', test_acc)"
      ]
    },
    {
      "cell_type": "markdown",
      "metadata": {
        "id": "5LD_slUxs9wK"
      },
      "source": [
        "## Tuning"
      ]
    },
    {
      "cell_type": "code",
      "execution_count": null,
      "metadata": {
        "id": "mwyuxyvXs7WQ"
      },
      "outputs": [],
      "source": [
        "X, y, cardinalities, train_loader, val_loader, test_loader = ready_data()"
      ]
    },
    {
      "cell_type": "code",
      "execution_count": null,
      "metadata": {
        "id": "fPk5PjfrtAJ3"
      },
      "outputs": [],
      "source": [
        "# optuna objective\n",
        "# hyperparameter space from Revisiting Deep Learning Models for Tabular Data\n",
        "# suggest_uniform, suggest_loguniform -> suggest_float, suggest_float(log=True)\n",
        "def objective(trial, train_loader, val_loader):\n",
        "    d_token = trial.suggest_categorical('d_token', [64, 128, 256, 512])\n",
        "    n_blocks = trial.suggest_int('n_blocks', 1, 4, log=True)\n",
        "    attention_dropout = trial.suggest_float('attention_dropout', 0, 0.5)\n",
        "    ffn_d_hidden = trial.suggest_int('ffn_d_hidden', 64, 1028)\n",
        "    ffn_dropout = trial.suggest_float('ffn_dropout', 0, 0.5)\n",
        "    residual_dropout = trial.suggest_float('residual_dropout', 0, 0.2)\n",
        "    lr = trial.suggest_float('lr', 1e-5, 1e-2, log=True)\n",
        "    weight_decay = trial.suggest_float('weigth_decay', 1e-6, 1e-3, log=True)\n",
        "\n",
        "    model = rtdl.FTTransformer.make_baseline(n_num_features=X['train']['num'].shape[1],\n",
        "                                             cat_cardinalities=cardinalities,\n",
        "                                             d_token=d_token,\n",
        "                                             n_blocks=n_blocks,\n",
        "                                             attention_dropout=attention_dropout,\n",
        "                                             ffn_d_hidden=ffn_d_hidden,\n",
        "                                             ffn_dropout=ffn_dropout,\n",
        "                                             residual_dropout=residual_dropout,\n",
        "                                             d_out=1).to(device)\n",
        "\n",
        "    criterion = nn.BCELoss()\n",
        "    optimizer = optim.AdamW(model.parameters(), lr=lr, weight_decay=weight_decay)\n",
        "\n",
        "    EPOCHS = 10\n",
        "    min_loss = np.inf\n",
        "\n",
        "    for epoch in range(EPOCHS):\n",
        "        val_loss, val_acc = model_tune(model, train_loader, val_loader, criterion, optimizer, device)\n",
        "\n",
        "        if val_loss < min_loss:\n",
        "            min_loss = val_loss\n",
        "\n",
        "    # minimize minimun loss\n",
        "    return min_loss"
      ]
    },
    {
      "cell_type": "code",
      "execution_count": null,
      "metadata": {
        "colab": {
          "base_uri": "https://localhost:8080/"
        },
        "id": "_N0Ka-WjumxD",
        "outputId": "430c1c29-8f68-4cd3-e9fd-6e20a0986c1f"
      },
      "outputs": [
        {
          "name": "stderr",
          "output_type": "stream",
          "text": [
            "[I 2023-09-03 15:10:26,769] A new study created in memory with name: FT-Transformer\n",
            "[I 2023-09-03 15:12:01,746] Trial 0 finished with value: 0.31191023896779657 and parameters: {'d_token': 256, 'n_blocks': 1, 'attention_dropout': 0.0253866283476884, 'ffn_d_hidden': 355, 'ffn_dropout': 0.33195514731235, 'residual_dropout': 0.06162287864737577, 'lr': 0.0005633442017222582, 'weigth_decay': 1.6170105887878455e-06}. Best is trial 0 with value: 0.31191023896779657.\n",
            "[I 2023-09-03 15:15:21,720] Trial 1 finished with value: 0.30791561366537684 and parameters: {'d_token': 64, 'n_blocks': 3, 'attention_dropout': 0.37947191775605715, 'ffn_d_hidden': 1000, 'ffn_dropout': 0.3796512763927764, 'residual_dropout': 0.07685000641802589, 'lr': 0.00016832746705566732, 'weigth_decay': 0.00013806426449912442}. Best is trial 1 with value: 0.30791561366537684.\n",
            "[I 2023-09-03 15:17:49,153] Trial 2 finished with value: 0.30841183575638 and parameters: {'d_token': 256, 'n_blocks': 2, 'attention_dropout': 0.08391788261075367, 'ffn_d_hidden': 352, 'ffn_dropout': 0.14197152251531692, 'residual_dropout': 0.0654425153235462, 'lr': 0.00024011594547390913, 'weigth_decay': 4.2964036649104274e-05}. Best is trial 1 with value: 0.30791561366537684.\n",
            "[I 2023-09-03 15:19:22,480] Trial 3 finished with value: 0.31391026360322605 and parameters: {'d_token': 512, 'n_blocks': 1, 'attention_dropout': 0.3074123555742173, 'ffn_d_hidden': 693, 'ffn_dropout': 0.19340821706714278, 'residual_dropout': 0.08207083571456375, 'lr': 0.002694465631697865, 'weigth_decay': 6.325688416776969e-05}. Best is trial 1 with value: 0.30791561366537684.\n",
            "[I 2023-09-03 15:22:45,038] Trial 4 finished with value: 0.31425553684998253 and parameters: {'d_token': 64, 'n_blocks': 3, 'attention_dropout': 0.4438277186036015, 'ffn_d_hidden': 738, 'ffn_dropout': 0.2271951538053748, 'residual_dropout': 0.061183032957771104, 'lr': 0.0028857135238802138, 'weigth_decay': 2.6241820849180914e-06}. Best is trial 1 with value: 0.30791561366537684.\n",
            "[I 2023-09-03 15:24:18,000] Trial 5 finished with value: 0.31611508817104345 and parameters: {'d_token': 512, 'n_blocks': 1, 'attention_dropout': 0.4023048260098239, 'ffn_d_hidden': 833, 'ffn_dropout': 0.3328468238870974, 'residual_dropout': 0.048822499344554696, 'lr': 0.0028712349861834516, 'weigth_decay': 2.52815426958096e-05}. Best is trial 1 with value: 0.30791561366537684.\n",
            "[I 2023-09-03 15:25:50,521] Trial 6 finished with value: 0.3172221409395893 and parameters: {'d_token': 256, 'n_blocks': 1, 'attention_dropout': 0.08962323656258431, 'ffn_d_hidden': 884, 'ffn_dropout': 0.1825561234209927, 'residual_dropout': 0.07620702788217536, 'lr': 1.329298365664037e-05, 'weigth_decay': 7.988941311419133e-05}. Best is trial 1 with value: 0.30791561366537684.\n",
            "[I 2023-09-03 15:27:23,237] Trial 7 finished with value: 0.31286784431628467 and parameters: {'d_token': 128, 'n_blocks': 1, 'attention_dropout': 0.18676054932517328, 'ffn_d_hidden': 432, 'ffn_dropout': 0.2853225110077615, 'residual_dropout': 0.10222734330823656, 'lr': 0.0003865733636663784, 'weigth_decay': 3.712001106743147e-05}. Best is trial 1 with value: 0.30791561366537684.\n",
            "[I 2023-09-03 15:28:52,438] Trial 8 finished with value: 0.3279178399894322 and parameters: {'d_token': 64, 'n_blocks': 1, 'attention_dropout': 0.33769619545643537, 'ffn_d_hidden': 955, 'ffn_dropout': 0.03498470984813046, 'residual_dropout': 0.1563538885204995, 'lr': 1.2744094026775414e-05, 'weigth_decay': 3.366967992935658e-05}. Best is trial 1 with value: 0.30791561366537684.\n",
            "[I 2023-09-03 15:30:24,901] Trial 9 finished with value: 0.31404495586364023 and parameters: {'d_token': 256, 'n_blocks': 1, 'attention_dropout': 0.3024222694512644, 'ffn_d_hidden': 751, 'ffn_dropout': 0.07538727408581358, 'residual_dropout': 0.12295271490015723, 'lr': 2.834999352564659e-05, 'weigth_decay': 2.4277091644083078e-05}. Best is trial 1 with value: 0.30791561366537684.\n",
            "[I 2023-09-03 15:34:40,764] Trial 10 finished with value: 0.30758440882320076 and parameters: {'d_token': 64, 'n_blocks': 4, 'attention_dropout': 0.47110354044768354, 'ffn_d_hidden': 111, 'ffn_dropout': 0.4536617774026742, 'residual_dropout': 0.0112958582072534, 'lr': 7.878491237694348e-05, 'weigth_decay': 0.000969774237597253}. Best is trial 10 with value: 0.30758440882320076.\n",
            "[I 2023-09-03 15:38:57,871] Trial 11 finished with value: 0.3088506360939137 and parameters: {'d_token': 64, 'n_blocks': 4, 'attention_dropout': 0.4924117619922685, 'ffn_d_hidden': 113, 'ffn_dropout': 0.46271281999602054, 'residual_dropout': 0.0038342215759173126, 'lr': 9.222237764391702e-05, 'weigth_decay': 0.0009716793664825517}. Best is trial 10 with value: 0.30758440882320076.\n",
            "[I 2023-09-03 15:43:17,137] Trial 12 finished with value: 0.31050074859789223 and parameters: {'d_token': 64, 'n_blocks': 4, 'attention_dropout': 0.39447850770900916, 'ffn_d_hidden': 69, 'ffn_dropout': 0.46631079808403886, 'residual_dropout': 0.0038004038876968092, 'lr': 9.420009445103097e-05, 'weigth_decay': 0.000909151615240169}. Best is trial 10 with value: 0.30758440882320076.\n",
            "[I 2023-09-03 15:45:43,217] Trial 13 finished with value: 0.30874233029179404 and parameters: {'d_token': 64, 'n_blocks': 2, 'attention_dropout': 0.49938064452676934, 'ffn_d_hidden': 536, 'ffn_dropout': 0.39328069685591205, 'residual_dropout': 0.03379640360217914, 'lr': 6.358119441124893e-05, 'weigth_decay': 0.00028288917730312025}. Best is trial 10 with value: 0.30758440882320076.\n",
            "[I 2023-09-03 15:49:10,551] Trial 14 finished with value: 0.30845081944482994 and parameters: {'d_token': 128, 'n_blocks': 3, 'attention_dropout': 0.38709273701369884, 'ffn_d_hidden': 241, 'ffn_dropout': 0.41230356354491476, 'residual_dropout': 0.19836499463176543, 'lr': 0.00021656872719706034, 'weigth_decay': 0.00029534981882161596}. Best is trial 10 with value: 0.30758440882320076.\n"
          ]
        },
        {
          "name": "stdout",
          "output_type": "stream",
          "text": [
            "\n",
            "Best Score: 0.30758440882320076\n",
            "Best trial: {'d_token': 64, 'n_blocks': 4, 'attention_dropout': 0.47110354044768354, 'ffn_d_hidden': 111, 'ffn_dropout': 0.4536617774026742, 'residual_dropout': 0.0112958582072534, 'lr': 7.878491237694348e-05, 'weigth_decay': 0.000969774237597253}\n"
          ]
        }
      ],
      "source": [
        "study = optuna.create_study(study_name='FT-Transformer', direction='minimize', sampler=TPESampler(seed=21))\n",
        "study.optimize(lambda trial: objective(trial, train_loader, val_loader), n_trials=15)\n",
        "\n",
        "print()\n",
        "print(\"Best Score:\", study.best_value)\n",
        "print(\"Best trial:\", study.best_trial.params)"
      ]
    },
    {
      "cell_type": "code",
      "execution_count": null,
      "metadata": {
        "colab": {
          "base_uri": "https://localhost:8080/",
          "height": 542
        },
        "id": "SUFyowwRu8dv",
        "outputId": "d0fb3bc4-169f-4316-d9c3-4bdbcf1ab277"
      },
      "outputs": [
        {
          "data": {
            "text/html": [
              "<html>\n",
              "<head><meta charset=\"utf-8\" /></head>\n",
              "<body>\n",
              "    <div>            <script src=\"https://cdnjs.cloudflare.com/ajax/libs/mathjax/2.7.5/MathJax.js?config=TeX-AMS-MML_SVG\"></script><script type=\"text/javascript\">if (window.MathJax && window.MathJax.Hub && window.MathJax.Hub.Config) {window.MathJax.Hub.Config({SVG: {font: \"STIX-Web\"}});}</script>                <script type=\"text/javascript\">window.PlotlyConfig = {MathJaxConfig: 'local'};</script>\n",
              "        <script charset=\"utf-8\" src=\"https://cdn.plot.ly/plotly-2.24.1.min.js\"></script>                <div id=\"d73fa075-2f24-40d5-9daf-4dc1b9d69469\" class=\"plotly-graph-div\" style=\"height:525px; width:100%;\"></div>            <script type=\"text/javascript\">                                    window.PLOTLYENV=window.PLOTLYENV || {};                                    if (document.getElementById(\"d73fa075-2f24-40d5-9daf-4dc1b9d69469\")) {                    Plotly.newPlot(                        \"d73fa075-2f24-40d5-9daf-4dc1b9d69469\",                        [{\"mode\":\"markers\",\"name\":\"Objective Value\",\"x\":[0,1,2,3,4,5,6,7,8,9,10,11,12,13,14],\"y\":[0.31191023896779657,0.30791561366537684,0.30841183575638,0.31391026360322605,0.31425553684998253,0.31611508817104345,0.3172221409395893,0.31286784431628467,0.3279178399894322,0.31404495586364023,0.30758440882320076,0.3088506360939137,0.31050074859789223,0.30874233029179404,0.30845081944482994],\"type\":\"scatter\"},{\"mode\":\"lines\",\"name\":\"Best Value\",\"x\":[0,1,2,3,4,5,6,7,8,9,10,11,12,13,14],\"y\":[0.31191023896779657,0.30791561366537684,0.30791561366537684,0.30791561366537684,0.30791561366537684,0.30791561366537684,0.30791561366537684,0.30791561366537684,0.30791561366537684,0.30791561366537684,0.30758440882320076,0.30758440882320076,0.30758440882320076,0.30758440882320076,0.30758440882320076],\"type\":\"scatter\"},{\"marker\":{\"color\":\"#cccccc\"},\"mode\":\"markers\",\"name\":\"Infeasible Trial\",\"showlegend\":false,\"x\":[],\"y\":[],\"type\":\"scatter\"}],                        {\"title\":{\"text\":\"Optimization History Plot\"},\"xaxis\":{\"title\":{\"text\":\"Trial\"}},\"yaxis\":{\"title\":{\"text\":\"Objective Value\"}},\"template\":{\"data\":{\"histogram2dcontour\":[{\"type\":\"histogram2dcontour\",\"colorbar\":{\"outlinewidth\":0,\"ticks\":\"\"},\"colorscale\":[[0.0,\"#0d0887\"],[0.1111111111111111,\"#46039f\"],[0.2222222222222222,\"#7201a8\"],[0.3333333333333333,\"#9c179e\"],[0.4444444444444444,\"#bd3786\"],[0.5555555555555556,\"#d8576b\"],[0.6666666666666666,\"#ed7953\"],[0.7777777777777778,\"#fb9f3a\"],[0.8888888888888888,\"#fdca26\"],[1.0,\"#f0f921\"]]}],\"choropleth\":[{\"type\":\"choropleth\",\"colorbar\":{\"outlinewidth\":0,\"ticks\":\"\"}}],\"histogram2d\":[{\"type\":\"histogram2d\",\"colorbar\":{\"outlinewidth\":0,\"ticks\":\"\"},\"colorscale\":[[0.0,\"#0d0887\"],[0.1111111111111111,\"#46039f\"],[0.2222222222222222,\"#7201a8\"],[0.3333333333333333,\"#9c179e\"],[0.4444444444444444,\"#bd3786\"],[0.5555555555555556,\"#d8576b\"],[0.6666666666666666,\"#ed7953\"],[0.7777777777777778,\"#fb9f3a\"],[0.8888888888888888,\"#fdca26\"],[1.0,\"#f0f921\"]]}],\"heatmap\":[{\"type\":\"heatmap\",\"colorbar\":{\"outlinewidth\":0,\"ticks\":\"\"},\"colorscale\":[[0.0,\"#0d0887\"],[0.1111111111111111,\"#46039f\"],[0.2222222222222222,\"#7201a8\"],[0.3333333333333333,\"#9c179e\"],[0.4444444444444444,\"#bd3786\"],[0.5555555555555556,\"#d8576b\"],[0.6666666666666666,\"#ed7953\"],[0.7777777777777778,\"#fb9f3a\"],[0.8888888888888888,\"#fdca26\"],[1.0,\"#f0f921\"]]}],\"heatmapgl\":[{\"type\":\"heatmapgl\",\"colorbar\":{\"outlinewidth\":0,\"ticks\":\"\"},\"colorscale\":[[0.0,\"#0d0887\"],[0.1111111111111111,\"#46039f\"],[0.2222222222222222,\"#7201a8\"],[0.3333333333333333,\"#9c179e\"],[0.4444444444444444,\"#bd3786\"],[0.5555555555555556,\"#d8576b\"],[0.6666666666666666,\"#ed7953\"],[0.7777777777777778,\"#fb9f3a\"],[0.8888888888888888,\"#fdca26\"],[1.0,\"#f0f921\"]]}],\"contourcarpet\":[{\"type\":\"contourcarpet\",\"colorbar\":{\"outlinewidth\":0,\"ticks\":\"\"}}],\"contour\":[{\"type\":\"contour\",\"colorbar\":{\"outlinewidth\":0,\"ticks\":\"\"},\"colorscale\":[[0.0,\"#0d0887\"],[0.1111111111111111,\"#46039f\"],[0.2222222222222222,\"#7201a8\"],[0.3333333333333333,\"#9c179e\"],[0.4444444444444444,\"#bd3786\"],[0.5555555555555556,\"#d8576b\"],[0.6666666666666666,\"#ed7953\"],[0.7777777777777778,\"#fb9f3a\"],[0.8888888888888888,\"#fdca26\"],[1.0,\"#f0f921\"]]}],\"surface\":[{\"type\":\"surface\",\"colorbar\":{\"outlinewidth\":0,\"ticks\":\"\"},\"colorscale\":[[0.0,\"#0d0887\"],[0.1111111111111111,\"#46039f\"],[0.2222222222222222,\"#7201a8\"],[0.3333333333333333,\"#9c179e\"],[0.4444444444444444,\"#bd3786\"],[0.5555555555555556,\"#d8576b\"],[0.6666666666666666,\"#ed7953\"],[0.7777777777777778,\"#fb9f3a\"],[0.8888888888888888,\"#fdca26\"],[1.0,\"#f0f921\"]]}],\"mesh3d\":[{\"type\":\"mesh3d\",\"colorbar\":{\"outlinewidth\":0,\"ticks\":\"\"}}],\"scatter\":[{\"fillpattern\":{\"fillmode\":\"overlay\",\"size\":10,\"solidity\":0.2},\"type\":\"scatter\"}],\"parcoords\":[{\"type\":\"parcoords\",\"line\":{\"colorbar\":{\"outlinewidth\":0,\"ticks\":\"\"}}}],\"scatterpolargl\":[{\"type\":\"scatterpolargl\",\"marker\":{\"colorbar\":{\"outlinewidth\":0,\"ticks\":\"\"}}}],\"bar\":[{\"error_x\":{\"color\":\"#2a3f5f\"},\"error_y\":{\"color\":\"#2a3f5f\"},\"marker\":{\"line\":{\"color\":\"#E5ECF6\",\"width\":0.5},\"pattern\":{\"fillmode\":\"overlay\",\"size\":10,\"solidity\":0.2}},\"type\":\"bar\"}],\"scattergeo\":[{\"type\":\"scattergeo\",\"marker\":{\"colorbar\":{\"outlinewidth\":0,\"ticks\":\"\"}}}],\"scatterpolar\":[{\"type\":\"scatterpolar\",\"marker\":{\"colorbar\":{\"outlinewidth\":0,\"ticks\":\"\"}}}],\"histogram\":[{\"marker\":{\"pattern\":{\"fillmode\":\"overlay\",\"size\":10,\"solidity\":0.2}},\"type\":\"histogram\"}],\"scattergl\":[{\"type\":\"scattergl\",\"marker\":{\"colorbar\":{\"outlinewidth\":0,\"ticks\":\"\"}}}],\"scatter3d\":[{\"type\":\"scatter3d\",\"line\":{\"colorbar\":{\"outlinewidth\":0,\"ticks\":\"\"}},\"marker\":{\"colorbar\":{\"outlinewidth\":0,\"ticks\":\"\"}}}],\"scattermapbox\":[{\"type\":\"scattermapbox\",\"marker\":{\"colorbar\":{\"outlinewidth\":0,\"ticks\":\"\"}}}],\"scatterternary\":[{\"type\":\"scatterternary\",\"marker\":{\"colorbar\":{\"outlinewidth\":0,\"ticks\":\"\"}}}],\"scattercarpet\":[{\"type\":\"scattercarpet\",\"marker\":{\"colorbar\":{\"outlinewidth\":0,\"ticks\":\"\"}}}],\"carpet\":[{\"aaxis\":{\"endlinecolor\":\"#2a3f5f\",\"gridcolor\":\"white\",\"linecolor\":\"white\",\"minorgridcolor\":\"white\",\"startlinecolor\":\"#2a3f5f\"},\"baxis\":{\"endlinecolor\":\"#2a3f5f\",\"gridcolor\":\"white\",\"linecolor\":\"white\",\"minorgridcolor\":\"white\",\"startlinecolor\":\"#2a3f5f\"},\"type\":\"carpet\"}],\"table\":[{\"cells\":{\"fill\":{\"color\":\"#EBF0F8\"},\"line\":{\"color\":\"white\"}},\"header\":{\"fill\":{\"color\":\"#C8D4E3\"},\"line\":{\"color\":\"white\"}},\"type\":\"table\"}],\"barpolar\":[{\"marker\":{\"line\":{\"color\":\"#E5ECF6\",\"width\":0.5},\"pattern\":{\"fillmode\":\"overlay\",\"size\":10,\"solidity\":0.2}},\"type\":\"barpolar\"}],\"pie\":[{\"automargin\":true,\"type\":\"pie\"}]},\"layout\":{\"autotypenumbers\":\"strict\",\"colorway\":[\"#636efa\",\"#EF553B\",\"#00cc96\",\"#ab63fa\",\"#FFA15A\",\"#19d3f3\",\"#FF6692\",\"#B6E880\",\"#FF97FF\",\"#FECB52\"],\"font\":{\"color\":\"#2a3f5f\"},\"hovermode\":\"closest\",\"hoverlabel\":{\"align\":\"left\"},\"paper_bgcolor\":\"white\",\"plot_bgcolor\":\"#E5ECF6\",\"polar\":{\"bgcolor\":\"#E5ECF6\",\"angularaxis\":{\"gridcolor\":\"white\",\"linecolor\":\"white\",\"ticks\":\"\"},\"radialaxis\":{\"gridcolor\":\"white\",\"linecolor\":\"white\",\"ticks\":\"\"}},\"ternary\":{\"bgcolor\":\"#E5ECF6\",\"aaxis\":{\"gridcolor\":\"white\",\"linecolor\":\"white\",\"ticks\":\"\"},\"baxis\":{\"gridcolor\":\"white\",\"linecolor\":\"white\",\"ticks\":\"\"},\"caxis\":{\"gridcolor\":\"white\",\"linecolor\":\"white\",\"ticks\":\"\"}},\"coloraxis\":{\"colorbar\":{\"outlinewidth\":0,\"ticks\":\"\"}},\"colorscale\":{\"sequential\":[[0.0,\"#0d0887\"],[0.1111111111111111,\"#46039f\"],[0.2222222222222222,\"#7201a8\"],[0.3333333333333333,\"#9c179e\"],[0.4444444444444444,\"#bd3786\"],[0.5555555555555556,\"#d8576b\"],[0.6666666666666666,\"#ed7953\"],[0.7777777777777778,\"#fb9f3a\"],[0.8888888888888888,\"#fdca26\"],[1.0,\"#f0f921\"]],\"sequentialminus\":[[0.0,\"#0d0887\"],[0.1111111111111111,\"#46039f\"],[0.2222222222222222,\"#7201a8\"],[0.3333333333333333,\"#9c179e\"],[0.4444444444444444,\"#bd3786\"],[0.5555555555555556,\"#d8576b\"],[0.6666666666666666,\"#ed7953\"],[0.7777777777777778,\"#fb9f3a\"],[0.8888888888888888,\"#fdca26\"],[1.0,\"#f0f921\"]],\"diverging\":[[0,\"#8e0152\"],[0.1,\"#c51b7d\"],[0.2,\"#de77ae\"],[0.3,\"#f1b6da\"],[0.4,\"#fde0ef\"],[0.5,\"#f7f7f7\"],[0.6,\"#e6f5d0\"],[0.7,\"#b8e186\"],[0.8,\"#7fbc41\"],[0.9,\"#4d9221\"],[1,\"#276419\"]]},\"xaxis\":{\"gridcolor\":\"white\",\"linecolor\":\"white\",\"ticks\":\"\",\"title\":{\"standoff\":15},\"zerolinecolor\":\"white\",\"automargin\":true,\"zerolinewidth\":2},\"yaxis\":{\"gridcolor\":\"white\",\"linecolor\":\"white\",\"ticks\":\"\",\"title\":{\"standoff\":15},\"zerolinecolor\":\"white\",\"automargin\":true,\"zerolinewidth\":2},\"scene\":{\"xaxis\":{\"backgroundcolor\":\"#E5ECF6\",\"gridcolor\":\"white\",\"linecolor\":\"white\",\"showbackground\":true,\"ticks\":\"\",\"zerolinecolor\":\"white\",\"gridwidth\":2},\"yaxis\":{\"backgroundcolor\":\"#E5ECF6\",\"gridcolor\":\"white\",\"linecolor\":\"white\",\"showbackground\":true,\"ticks\":\"\",\"zerolinecolor\":\"white\",\"gridwidth\":2},\"zaxis\":{\"backgroundcolor\":\"#E5ECF6\",\"gridcolor\":\"white\",\"linecolor\":\"white\",\"showbackground\":true,\"ticks\":\"\",\"zerolinecolor\":\"white\",\"gridwidth\":2}},\"shapedefaults\":{\"line\":{\"color\":\"#2a3f5f\"}},\"annotationdefaults\":{\"arrowcolor\":\"#2a3f5f\",\"arrowhead\":0,\"arrowwidth\":1},\"geo\":{\"bgcolor\":\"white\",\"landcolor\":\"#E5ECF6\",\"subunitcolor\":\"white\",\"showland\":true,\"showlakes\":true,\"lakecolor\":\"white\"},\"title\":{\"x\":0.05},\"mapbox\":{\"style\":\"light\"}}}},                        {\"responsive\": true}                    ).then(function(){\n",
              "                            \n",
              "var gd = document.getElementById('d73fa075-2f24-40d5-9daf-4dc1b9d69469');\n",
              "var x = new MutationObserver(function (mutations, observer) {{\n",
              "        var display = window.getComputedStyle(gd).display;\n",
              "        if (!display || display === 'none') {{\n",
              "            console.log([gd, 'removed!']);\n",
              "            Plotly.purge(gd);\n",
              "            observer.disconnect();\n",
              "        }}\n",
              "}});\n",
              "\n",
              "// Listen for the removal of the full notebook cells\n",
              "var notebookContainer = gd.closest('#notebook-container');\n",
              "if (notebookContainer) {{\n",
              "    x.observe(notebookContainer, {childList: true});\n",
              "}}\n",
              "\n",
              "// Listen for the clearing of the current output cell\n",
              "var outputEl = gd.closest('.output');\n",
              "if (outputEl) {{\n",
              "    x.observe(outputEl, {childList: true});\n",
              "}}\n",
              "\n",
              "                        })                };                            </script>        </div>\n",
              "</body>\n",
              "</html>"
            ]
          },
          "metadata": {},
          "output_type": "display_data"
        }
      ],
      "source": [
        "optuna.visualization.plot_optimization_history(study)"
      ]
    },
    {
      "cell_type": "code",
      "execution_count": null,
      "metadata": {
        "colab": {
          "base_uri": "https://localhost:8080/",
          "height": 542
        },
        "id": "jdAVYADK5Xbh",
        "outputId": "6fefc4ed-cf14-4029-b111-e53d61e26d2d"
      },
      "outputs": [
        {
          "data": {
            "text/html": [
              "<html>\n",
              "<head><meta charset=\"utf-8\" /></head>\n",
              "<body>\n",
              "    <div>            <script src=\"https://cdnjs.cloudflare.com/ajax/libs/mathjax/2.7.5/MathJax.js?config=TeX-AMS-MML_SVG\"></script><script type=\"text/javascript\">if (window.MathJax && window.MathJax.Hub && window.MathJax.Hub.Config) {window.MathJax.Hub.Config({SVG: {font: \"STIX-Web\"}});}</script>                <script type=\"text/javascript\">window.PlotlyConfig = {MathJaxConfig: 'local'};</script>\n",
              "        <script charset=\"utf-8\" src=\"https://cdn.plot.ly/plotly-2.24.1.min.js\"></script>                <div id=\"25e1ead2-7840-4abd-a584-7c936e1194e7\" class=\"plotly-graph-div\" style=\"height:525px; width:100%;\"></div>            <script type=\"text/javascript\">                                    window.PLOTLYENV=window.PLOTLYENV || {};                                    if (document.getElementById(\"25e1ead2-7840-4abd-a584-7c936e1194e7\")) {                    Plotly.newPlot(                        \"25e1ead2-7840-4abd-a584-7c936e1194e7\",                        [{\"cliponaxis\":false,\"hovertemplate\":[\"d_token (CategoricalDistribution): 0.002690360233522994\\u003cextra\\u003e\\u003c\\u002fextra\\u003e\",\"attention_dropout (FloatDistribution): 0.01382393595743193\\u003cextra\\u003e\\u003c\\u002fextra\\u003e\",\"lr (FloatDistribution): 0.02520986865698243\\u003cextra\\u003e\\u003c\\u002fextra\\u003e\",\"weigth_decay (FloatDistribution): 0.1367434227788678\\u003cextra\\u003e\\u003c\\u002fextra\\u003e\",\"residual_dropout (FloatDistribution): 0.14482678532857413\\u003cextra\\u003e\\u003c\\u002fextra\\u003e\",\"ffn_d_hidden (IntDistribution): 0.14482916165936663\\u003cextra\\u003e\\u003c\\u002fextra\\u003e\",\"n_blocks (IntDistribution): 0.19109558760980203\\u003cextra\\u003e\\u003c\\u002fextra\\u003e\",\"ffn_dropout (FloatDistribution): 0.3407808777754522\\u003cextra\\u003e\\u003c\\u002fextra\\u003e\"],\"marker\":{\"color\":\"rgb(66,146,198)\"},\"orientation\":\"h\",\"text\":[\"\\u003c0.01\",\"0.01\",\"0.03\",\"0.14\",\"0.14\",\"0.14\",\"0.19\",\"0.34\"],\"textposition\":\"outside\",\"x\":[0.002690360233522994,0.01382393595743193,0.02520986865698243,0.1367434227788678,0.14482678532857413,0.14482916165936663,0.19109558760980203,0.3407808777754522],\"y\":[\"d_token\",\"attention_dropout\",\"lr\",\"weigth_decay\",\"residual_dropout\",\"ffn_d_hidden\",\"n_blocks\",\"ffn_dropout\"],\"type\":\"bar\"}],                        {\"showlegend\":false,\"title\":{\"text\":\"Hyperparameter Importances\"},\"xaxis\":{\"title\":{\"text\":\"Importance for Objective Value\"}},\"yaxis\":{\"title\":{\"text\":\"Hyperparameter\"}},\"template\":{\"data\":{\"histogram2dcontour\":[{\"type\":\"histogram2dcontour\",\"colorbar\":{\"outlinewidth\":0,\"ticks\":\"\"},\"colorscale\":[[0.0,\"#0d0887\"],[0.1111111111111111,\"#46039f\"],[0.2222222222222222,\"#7201a8\"],[0.3333333333333333,\"#9c179e\"],[0.4444444444444444,\"#bd3786\"],[0.5555555555555556,\"#d8576b\"],[0.6666666666666666,\"#ed7953\"],[0.7777777777777778,\"#fb9f3a\"],[0.8888888888888888,\"#fdca26\"],[1.0,\"#f0f921\"]]}],\"choropleth\":[{\"type\":\"choropleth\",\"colorbar\":{\"outlinewidth\":0,\"ticks\":\"\"}}],\"histogram2d\":[{\"type\":\"histogram2d\",\"colorbar\":{\"outlinewidth\":0,\"ticks\":\"\"},\"colorscale\":[[0.0,\"#0d0887\"],[0.1111111111111111,\"#46039f\"],[0.2222222222222222,\"#7201a8\"],[0.3333333333333333,\"#9c179e\"],[0.4444444444444444,\"#bd3786\"],[0.5555555555555556,\"#d8576b\"],[0.6666666666666666,\"#ed7953\"],[0.7777777777777778,\"#fb9f3a\"],[0.8888888888888888,\"#fdca26\"],[1.0,\"#f0f921\"]]}],\"heatmap\":[{\"type\":\"heatmap\",\"colorbar\":{\"outlinewidth\":0,\"ticks\":\"\"},\"colorscale\":[[0.0,\"#0d0887\"],[0.1111111111111111,\"#46039f\"],[0.2222222222222222,\"#7201a8\"],[0.3333333333333333,\"#9c179e\"],[0.4444444444444444,\"#bd3786\"],[0.5555555555555556,\"#d8576b\"],[0.6666666666666666,\"#ed7953\"],[0.7777777777777778,\"#fb9f3a\"],[0.8888888888888888,\"#fdca26\"],[1.0,\"#f0f921\"]]}],\"heatmapgl\":[{\"type\":\"heatmapgl\",\"colorbar\":{\"outlinewidth\":0,\"ticks\":\"\"},\"colorscale\":[[0.0,\"#0d0887\"],[0.1111111111111111,\"#46039f\"],[0.2222222222222222,\"#7201a8\"],[0.3333333333333333,\"#9c179e\"],[0.4444444444444444,\"#bd3786\"],[0.5555555555555556,\"#d8576b\"],[0.6666666666666666,\"#ed7953\"],[0.7777777777777778,\"#fb9f3a\"],[0.8888888888888888,\"#fdca26\"],[1.0,\"#f0f921\"]]}],\"contourcarpet\":[{\"type\":\"contourcarpet\",\"colorbar\":{\"outlinewidth\":0,\"ticks\":\"\"}}],\"contour\":[{\"type\":\"contour\",\"colorbar\":{\"outlinewidth\":0,\"ticks\":\"\"},\"colorscale\":[[0.0,\"#0d0887\"],[0.1111111111111111,\"#46039f\"],[0.2222222222222222,\"#7201a8\"],[0.3333333333333333,\"#9c179e\"],[0.4444444444444444,\"#bd3786\"],[0.5555555555555556,\"#d8576b\"],[0.6666666666666666,\"#ed7953\"],[0.7777777777777778,\"#fb9f3a\"],[0.8888888888888888,\"#fdca26\"],[1.0,\"#f0f921\"]]}],\"surface\":[{\"type\":\"surface\",\"colorbar\":{\"outlinewidth\":0,\"ticks\":\"\"},\"colorscale\":[[0.0,\"#0d0887\"],[0.1111111111111111,\"#46039f\"],[0.2222222222222222,\"#7201a8\"],[0.3333333333333333,\"#9c179e\"],[0.4444444444444444,\"#bd3786\"],[0.5555555555555556,\"#d8576b\"],[0.6666666666666666,\"#ed7953\"],[0.7777777777777778,\"#fb9f3a\"],[0.8888888888888888,\"#fdca26\"],[1.0,\"#f0f921\"]]}],\"mesh3d\":[{\"type\":\"mesh3d\",\"colorbar\":{\"outlinewidth\":0,\"ticks\":\"\"}}],\"scatter\":[{\"fillpattern\":{\"fillmode\":\"overlay\",\"size\":10,\"solidity\":0.2},\"type\":\"scatter\"}],\"parcoords\":[{\"type\":\"parcoords\",\"line\":{\"colorbar\":{\"outlinewidth\":0,\"ticks\":\"\"}}}],\"scatterpolargl\":[{\"type\":\"scatterpolargl\",\"marker\":{\"colorbar\":{\"outlinewidth\":0,\"ticks\":\"\"}}}],\"bar\":[{\"error_x\":{\"color\":\"#2a3f5f\"},\"error_y\":{\"color\":\"#2a3f5f\"},\"marker\":{\"line\":{\"color\":\"#E5ECF6\",\"width\":0.5},\"pattern\":{\"fillmode\":\"overlay\",\"size\":10,\"solidity\":0.2}},\"type\":\"bar\"}],\"scattergeo\":[{\"type\":\"scattergeo\",\"marker\":{\"colorbar\":{\"outlinewidth\":0,\"ticks\":\"\"}}}],\"scatterpolar\":[{\"type\":\"scatterpolar\",\"marker\":{\"colorbar\":{\"outlinewidth\":0,\"ticks\":\"\"}}}],\"histogram\":[{\"marker\":{\"pattern\":{\"fillmode\":\"overlay\",\"size\":10,\"solidity\":0.2}},\"type\":\"histogram\"}],\"scattergl\":[{\"type\":\"scattergl\",\"marker\":{\"colorbar\":{\"outlinewidth\":0,\"ticks\":\"\"}}}],\"scatter3d\":[{\"type\":\"scatter3d\",\"line\":{\"colorbar\":{\"outlinewidth\":0,\"ticks\":\"\"}},\"marker\":{\"colorbar\":{\"outlinewidth\":0,\"ticks\":\"\"}}}],\"scattermapbox\":[{\"type\":\"scattermapbox\",\"marker\":{\"colorbar\":{\"outlinewidth\":0,\"ticks\":\"\"}}}],\"scatterternary\":[{\"type\":\"scatterternary\",\"marker\":{\"colorbar\":{\"outlinewidth\":0,\"ticks\":\"\"}}}],\"scattercarpet\":[{\"type\":\"scattercarpet\",\"marker\":{\"colorbar\":{\"outlinewidth\":0,\"ticks\":\"\"}}}],\"carpet\":[{\"aaxis\":{\"endlinecolor\":\"#2a3f5f\",\"gridcolor\":\"white\",\"linecolor\":\"white\",\"minorgridcolor\":\"white\",\"startlinecolor\":\"#2a3f5f\"},\"baxis\":{\"endlinecolor\":\"#2a3f5f\",\"gridcolor\":\"white\",\"linecolor\":\"white\",\"minorgridcolor\":\"white\",\"startlinecolor\":\"#2a3f5f\"},\"type\":\"carpet\"}],\"table\":[{\"cells\":{\"fill\":{\"color\":\"#EBF0F8\"},\"line\":{\"color\":\"white\"}},\"header\":{\"fill\":{\"color\":\"#C8D4E3\"},\"line\":{\"color\":\"white\"}},\"type\":\"table\"}],\"barpolar\":[{\"marker\":{\"line\":{\"color\":\"#E5ECF6\",\"width\":0.5},\"pattern\":{\"fillmode\":\"overlay\",\"size\":10,\"solidity\":0.2}},\"type\":\"barpolar\"}],\"pie\":[{\"automargin\":true,\"type\":\"pie\"}]},\"layout\":{\"autotypenumbers\":\"strict\",\"colorway\":[\"#636efa\",\"#EF553B\",\"#00cc96\",\"#ab63fa\",\"#FFA15A\",\"#19d3f3\",\"#FF6692\",\"#B6E880\",\"#FF97FF\",\"#FECB52\"],\"font\":{\"color\":\"#2a3f5f\"},\"hovermode\":\"closest\",\"hoverlabel\":{\"align\":\"left\"},\"paper_bgcolor\":\"white\",\"plot_bgcolor\":\"#E5ECF6\",\"polar\":{\"bgcolor\":\"#E5ECF6\",\"angularaxis\":{\"gridcolor\":\"white\",\"linecolor\":\"white\",\"ticks\":\"\"},\"radialaxis\":{\"gridcolor\":\"white\",\"linecolor\":\"white\",\"ticks\":\"\"}},\"ternary\":{\"bgcolor\":\"#E5ECF6\",\"aaxis\":{\"gridcolor\":\"white\",\"linecolor\":\"white\",\"ticks\":\"\"},\"baxis\":{\"gridcolor\":\"white\",\"linecolor\":\"white\",\"ticks\":\"\"},\"caxis\":{\"gridcolor\":\"white\",\"linecolor\":\"white\",\"ticks\":\"\"}},\"coloraxis\":{\"colorbar\":{\"outlinewidth\":0,\"ticks\":\"\"}},\"colorscale\":{\"sequential\":[[0.0,\"#0d0887\"],[0.1111111111111111,\"#46039f\"],[0.2222222222222222,\"#7201a8\"],[0.3333333333333333,\"#9c179e\"],[0.4444444444444444,\"#bd3786\"],[0.5555555555555556,\"#d8576b\"],[0.6666666666666666,\"#ed7953\"],[0.7777777777777778,\"#fb9f3a\"],[0.8888888888888888,\"#fdca26\"],[1.0,\"#f0f921\"]],\"sequentialminus\":[[0.0,\"#0d0887\"],[0.1111111111111111,\"#46039f\"],[0.2222222222222222,\"#7201a8\"],[0.3333333333333333,\"#9c179e\"],[0.4444444444444444,\"#bd3786\"],[0.5555555555555556,\"#d8576b\"],[0.6666666666666666,\"#ed7953\"],[0.7777777777777778,\"#fb9f3a\"],[0.8888888888888888,\"#fdca26\"],[1.0,\"#f0f921\"]],\"diverging\":[[0,\"#8e0152\"],[0.1,\"#c51b7d\"],[0.2,\"#de77ae\"],[0.3,\"#f1b6da\"],[0.4,\"#fde0ef\"],[0.5,\"#f7f7f7\"],[0.6,\"#e6f5d0\"],[0.7,\"#b8e186\"],[0.8,\"#7fbc41\"],[0.9,\"#4d9221\"],[1,\"#276419\"]]},\"xaxis\":{\"gridcolor\":\"white\",\"linecolor\":\"white\",\"ticks\":\"\",\"title\":{\"standoff\":15},\"zerolinecolor\":\"white\",\"automargin\":true,\"zerolinewidth\":2},\"yaxis\":{\"gridcolor\":\"white\",\"linecolor\":\"white\",\"ticks\":\"\",\"title\":{\"standoff\":15},\"zerolinecolor\":\"white\",\"automargin\":true,\"zerolinewidth\":2},\"scene\":{\"xaxis\":{\"backgroundcolor\":\"#E5ECF6\",\"gridcolor\":\"white\",\"linecolor\":\"white\",\"showbackground\":true,\"ticks\":\"\",\"zerolinecolor\":\"white\",\"gridwidth\":2},\"yaxis\":{\"backgroundcolor\":\"#E5ECF6\",\"gridcolor\":\"white\",\"linecolor\":\"white\",\"showbackground\":true,\"ticks\":\"\",\"zerolinecolor\":\"white\",\"gridwidth\":2},\"zaxis\":{\"backgroundcolor\":\"#E5ECF6\",\"gridcolor\":\"white\",\"linecolor\":\"white\",\"showbackground\":true,\"ticks\":\"\",\"zerolinecolor\":\"white\",\"gridwidth\":2}},\"shapedefaults\":{\"line\":{\"color\":\"#2a3f5f\"}},\"annotationdefaults\":{\"arrowcolor\":\"#2a3f5f\",\"arrowhead\":0,\"arrowwidth\":1},\"geo\":{\"bgcolor\":\"white\",\"landcolor\":\"#E5ECF6\",\"subunitcolor\":\"white\",\"showland\":true,\"showlakes\":true,\"lakecolor\":\"white\"},\"title\":{\"x\":0.05},\"mapbox\":{\"style\":\"light\"}}}},                        {\"responsive\": true}                    ).then(function(){\n",
              "                            \n",
              "var gd = document.getElementById('25e1ead2-7840-4abd-a584-7c936e1194e7');\n",
              "var x = new MutationObserver(function (mutations, observer) {{\n",
              "        var display = window.getComputedStyle(gd).display;\n",
              "        if (!display || display === 'none') {{\n",
              "            console.log([gd, 'removed!']);\n",
              "            Plotly.purge(gd);\n",
              "            observer.disconnect();\n",
              "        }}\n",
              "}});\n",
              "\n",
              "// Listen for the removal of the full notebook cells\n",
              "var notebookContainer = gd.closest('#notebook-container');\n",
              "if (notebookContainer) {{\n",
              "    x.observe(notebookContainer, {childList: true});\n",
              "}}\n",
              "\n",
              "// Listen for the clearing of the current output cell\n",
              "var outputEl = gd.closest('.output');\n",
              "if (outputEl) {{\n",
              "    x.observe(outputEl, {childList: true});\n",
              "}}\n",
              "\n",
              "                        })                };                            </script>        </div>\n",
              "</body>\n",
              "</html>"
            ]
          },
          "metadata": {},
          "output_type": "display_data"
        }
      ],
      "source": [
        "optuna.visualization.plot_param_importances(study)"
      ]
    },
    {
      "cell_type": "code",
      "execution_count": null,
      "metadata": {
        "colab": {
          "base_uri": "https://localhost:8080/"
        },
        "id": "6WYG8OJQ5ang",
        "outputId": "9fef6167-aa14-4b9b-b318-27b00be2de3b"
      },
      "outputs": [
        {
          "data": {
            "text/plain": [
              "{'d_token': 64,\n",
              " 'n_blocks': 4,\n",
              " 'attention_dropout': 0.47110354044768354,\n",
              " 'ffn_d_hidden': 111,\n",
              " 'ffn_dropout': 0.4536617774026742,\n",
              " 'residual_dropout': 0.0112958582072534,\n",
              " 'lr': 7.878491237694348e-05,\n",
              " 'weigth_decay': 0.000969774237597253}"
            ]
          },
          "execution_count": 69,
          "metadata": {},
          "output_type": "execute_result"
        }
      ],
      "source": [
        "study.best_trial.params"
      ]
    },
    {
      "cell_type": "code",
      "execution_count": null,
      "metadata": {
        "colab": {
          "base_uri": "https://localhost:8080/"
        },
        "id": "EKjYRDjy5ek-",
        "outputId": "96e0f862-ba4b-41d6-c457-d69f8553ede0"
      },
      "outputs": [
        {
          "name": "stderr",
          "output_type": "stream",
          "text": [
            "100%|██████████| 1237/1237 [00:26<00:00, 46.50it/s]\n"
          ]
        },
        {
          "name": "stdout",
          "output_type": "stream",
          "text": [
            "[INFO] val_loss has been improved from inf to 0.32704. Save model.\n",
            "epoch 01, loss: 0.37064, accuracy: 0.83347, val_loss: 0.32704, val_accuracy: 0.84964 \n",
            "\n"
          ]
        },
        {
          "name": "stderr",
          "output_type": "stream",
          "text": [
            "100%|██████████| 1237/1237 [00:26<00:00, 46.84it/s]\n"
          ]
        },
        {
          "name": "stdout",
          "output_type": "stream",
          "text": [
            "[INFO] val_loss has been improved from 0.32704 to 0.32234. Save model.\n",
            "epoch 02, loss: 0.32431, accuracy: 0.85213, val_loss: 0.32234, val_accuracy: 0.84964 \n",
            "\n"
          ]
        },
        {
          "name": "stderr",
          "output_type": "stream",
          "text": [
            "100%|██████████| 1237/1237 [00:27<00:00, 44.98it/s]\n"
          ]
        },
        {
          "name": "stdout",
          "output_type": "stream",
          "text": [
            "[INFO] val_loss has been improved from 0.32234 to 0.31594. Save model.\n",
            "epoch 03, loss: 0.31692, accuracy: 0.85309, val_loss: 0.31594, val_accuracy: 0.85214 \n",
            "\n"
          ]
        },
        {
          "name": "stderr",
          "output_type": "stream",
          "text": [
            "100%|██████████| 1237/1237 [00:27<00:00, 44.25it/s]\n"
          ]
        },
        {
          "name": "stdout",
          "output_type": "stream",
          "text": [
            "epoch 04, loss: 0.31211, accuracy: 0.85544, val_loss: 0.31876, val_accuracy: 0.85191 \n",
            "\n"
          ]
        },
        {
          "name": "stderr",
          "output_type": "stream",
          "text": [
            "100%|██████████| 1237/1237 [00:27<00:00, 44.45it/s]\n"
          ]
        },
        {
          "name": "stdout",
          "output_type": "stream",
          "text": [
            "epoch 05, loss: 0.30868, accuracy: 0.85582, val_loss: 0.32563, val_accuracy: 0.84759 \n",
            "\n"
          ]
        },
        {
          "name": "stderr",
          "output_type": "stream",
          "text": [
            "100%|██████████| 1237/1237 [00:27<00:00, 45.37it/s]\n"
          ]
        },
        {
          "name": "stdout",
          "output_type": "stream",
          "text": [
            "epoch 06, loss: 0.30714, accuracy: 0.85784, val_loss: 0.31656, val_accuracy: 0.85168 \n",
            "\n"
          ]
        },
        {
          "name": "stderr",
          "output_type": "stream",
          "text": [
            "100%|██████████| 1237/1237 [00:27<00:00, 44.86it/s]\n"
          ]
        },
        {
          "name": "stdout",
          "output_type": "stream",
          "text": [
            "epoch 07, loss: 0.30630, accuracy: 0.85918, val_loss: 0.31977, val_accuracy: 0.84827 \n",
            "\n"
          ]
        },
        {
          "name": "stderr",
          "output_type": "stream",
          "text": [
            "100%|██████████| 1237/1237 [00:26<00:00, 46.34it/s]\n"
          ]
        },
        {
          "name": "stdout",
          "output_type": "stream",
          "text": [
            "[INFO] val_loss has been improved from 0.31594 to 0.31213. Save model.\n",
            "epoch 08, loss: 0.30602, accuracy: 0.85738, val_loss: 0.31213, val_accuracy: 0.85077 \n",
            "\n"
          ]
        },
        {
          "name": "stderr",
          "output_type": "stream",
          "text": [
            "100%|██████████| 1237/1237 [00:27<00:00, 45.03it/s]\n"
          ]
        },
        {
          "name": "stdout",
          "output_type": "stream",
          "text": [
            "[INFO] val_loss has been improved from 0.31213 to 0.31095. Save model.\n",
            "epoch 09, loss: 0.30443, accuracy: 0.85860, val_loss: 0.31095, val_accuracy: 0.85168 \n",
            "\n"
          ]
        },
        {
          "name": "stderr",
          "output_type": "stream",
          "text": [
            "100%|██████████| 1237/1237 [00:27<00:00, 44.70it/s]\n"
          ]
        },
        {
          "name": "stdout",
          "output_type": "stream",
          "text": [
            "[INFO] val_loss has been improved from 0.31095 to 0.31038. Save model.\n",
            "epoch 10, loss: 0.30350, accuracy: 0.85888, val_loss: 0.31038, val_accuracy: 0.85350 \n",
            "\n"
          ]
        },
        {
          "name": "stderr",
          "output_type": "stream",
          "text": [
            "100%|██████████| 1237/1237 [00:27<00:00, 44.66it/s]\n"
          ]
        },
        {
          "name": "stdout",
          "output_type": "stream",
          "text": [
            "[INFO] val_loss has been improved from 0.31038 to 0.30803. Save model.\n",
            "epoch 11, loss: 0.30243, accuracy: 0.85898, val_loss: 0.30803, val_accuracy: 0.85464 \n",
            "\n"
          ]
        },
        {
          "name": "stderr",
          "output_type": "stream",
          "text": [
            "100%|██████████| 1237/1237 [00:26<00:00, 46.09it/s]\n"
          ]
        },
        {
          "name": "stdout",
          "output_type": "stream",
          "text": [
            "epoch 12, loss: 0.30255, accuracy: 0.85948, val_loss: 0.30838, val_accuracy: 0.85373 \n",
            "\n"
          ]
        },
        {
          "name": "stderr",
          "output_type": "stream",
          "text": [
            "100%|██████████| 1237/1237 [00:26<00:00, 47.42it/s]\n"
          ]
        },
        {
          "name": "stdout",
          "output_type": "stream",
          "text": [
            "epoch 13, loss: 0.30143, accuracy: 0.86080, val_loss: 0.31192, val_accuracy: 0.85464 \n",
            "\n"
          ]
        },
        {
          "name": "stderr",
          "output_type": "stream",
          "text": [
            "100%|██████████| 1237/1237 [00:27<00:00, 44.56it/s]\n"
          ]
        },
        {
          "name": "stdout",
          "output_type": "stream",
          "text": [
            "[INFO] val_loss has been improved from 0.30803 to 0.30650. Save model.\n",
            "epoch 14, loss: 0.30129, accuracy: 0.85958, val_loss: 0.30650, val_accuracy: 0.85373 \n",
            "\n"
          ]
        },
        {
          "name": "stderr",
          "output_type": "stream",
          "text": [
            "100%|██████████| 1237/1237 [00:27<00:00, 44.42it/s]\n"
          ]
        },
        {
          "name": "stdout",
          "output_type": "stream",
          "text": [
            "epoch 15, loss: 0.30042, accuracy: 0.85961, val_loss: 0.31261, val_accuracy: 0.85487 \n",
            "\n"
          ]
        }
      ],
      "source": [
        "X, y, cardinalities, train_loader, val_loader, test_loader = ready_data()\n",
        "\n",
        "ft_t = rtdl.FTTransformer.make_baseline(n_num_features=X['train']['num'].shape[1],\n",
        "                                        cat_cardinalities=cardinalities,\n",
        "                                        d_token=study.best_trial.params['d_token'],\n",
        "                                        n_blocks=study.best_trial.params['n_blocks'],\n",
        "                                        attention_dropout=study.best_trial.params['attention_dropout'],\n",
        "                                        ffn_d_hidden=study.best_trial.params['ffn_d_hidden'],\n",
        "                                        ffn_dropout=study.best_trial.params['ffn_dropout'],\n",
        "                                        residual_dropout=study.best_trial.params['residual_dropout'],\n",
        "                                        d_out=1).to(device)\n",
        "\n",
        "criterion = nn.BCELoss()\n",
        "optimizer = optim.AdamW(ft_t.parameters(),\n",
        "                        lr = study.best_trial.params['lr'],\n",
        "                        weight_decay=study.best_trial.params['weigth_decay'])\n",
        "\n",
        "history = {'train_loss' : [],\n",
        "           'val_loss': [],\n",
        "           'train_accuracy': [],\n",
        "           'val_accuracy': []}\n",
        "\n",
        "EPOCHS = 15\n",
        "max_loss = np.inf\n",
        "\n",
        "for epoch in range(EPOCHS):\n",
        "    train_loss, train_acc = model_train(ft_t, train_loader, criterion, optimizer, device, None)\n",
        "    val_loss, val_acc = model_evaluate(ft_t, val_loader, criterion, device)\n",
        "\n",
        "    if val_loss < max_loss:\n",
        "        print(f'[INFO] val_loss has been improved from {max_loss:.5f} to {val_loss:.5f}. Save model.')\n",
        "        max_loss = val_loss\n",
        "        torch.save(ft_t.state_dict(), 'FT-Transformer_Best_tuned.pth')\n",
        "\n",
        "    print(f'epoch {epoch+1:02d}, loss: {train_loss:.5f}, accuracy: {train_acc:.5f}, val_loss: {val_loss:.5f}, val_accuracy: {val_acc:.5f} \\n')"
      ]
    },
    {
      "cell_type": "code",
      "execution_count": null,
      "metadata": {
        "colab": {
          "base_uri": "https://localhost:8080/",
          "height": 472
        },
        "id": "jQvMjIrB6Spo",
        "outputId": "bb9f85a0-8fe6-4279-8b8e-18607005ce43"
      },
      "outputs": [
        {
          "data": {
            "image/png": "[encoded data removed]",
            "text/plain": [
              "<Figure size 640x480 with 1 Axes>"
            ]
          },
          "metadata": {},
          "output_type": "display_data"
        }
      ],
      "source": [
        "plot_acc(history)"
      ]
    },
    {
      "cell_type": "code",
      "execution_count": null,
      "metadata": {
        "colab": {
          "base_uri": "https://localhost:8080/",
          "height": 472
        },
        "id": "quqpTrVM8AAk",
        "outputId": "d7edc453-07aa-466a-ff19-85c42d1ea30c"
      },
      "outputs": [
        {
          "data": {
            "image/png": "[encoded data removed]",
            "text/plain": [
              "<Figure size 640x480 with 1 Axes>"
            ]
          },
          "metadata": {},
          "output_type": "display_data"
        }
      ],
      "source": [
        "plot_loss(history)"
      ]
    },
    {
      "cell_type": "code",
      "execution_count": null,
      "metadata": {
        "colab": {
          "base_uri": "https://localhost:8080/"
        },
        "id": "_FWgtuVo8BTx",
        "outputId": "5d6fe85c-af43-49c3-973b-6c5c6ffb11f0"
      },
      "outputs": [
        {
          "name": "stdout",
          "output_type": "stream",
          "text": [
            "Test loss: 0.3057573468774222 \n",
            "Test acc: 0.8595701125895598\n"
          ]
        }
      ],
      "source": [
        "# test evaluate\n",
        "ft_t.load_state_dict(torch.load('FT-Transformer_Best_tuned.pth'))\n",
        "test_loss, test_acc = model_evaluate(ft_t, test_loader, criterion, device)\n",
        "print('Test loss:', test_loss, '\\nTest acc:', test_acc)"
      ]
    }
  ],
  "metadata": {
    "accelerator": "GPU",
    "colab": {
      "collapsed_sections": [
        "C3QNL-S5PYdB",
        "lcyOFH57ubbs",
        "kvFEJO0_udZM",
        "OJn8KRpED_RQ",
        "XmoKlVKSh2E9",
        "02RoGQLTh-0V",
        "I91ddr2njufb",
        "5LD_slUxs9wK"
      ],
      "gpuType": "T4",
      "provenance": []
    },
    "kernelspec": {
      "display_name": "Python 3",
      "name": "python3"
    },
    "language_info": {
      "name": "python"
    }
  },
  "nbformat": 4,
  "nbformat_minor": 0
}
